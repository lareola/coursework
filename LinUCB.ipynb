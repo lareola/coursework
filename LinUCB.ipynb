{
 "cells": [
  {
   "cell_type": "code",
   "execution_count": 1,
   "metadata": {
    "collapsed": true
   },
   "outputs": [],
   "source": [
    "import matplotlib.pyplot as plt\n",
    "import pandas \n",
    "import math\n",
    "import numpy as np\n",
    "import random\n",
    "from numpy import linalg\n",
    "from numpy import matrix\n",
    "import time\n",
    "%matplotlib inline"
   ]
  },
  {
   "cell_type": "code",
   "execution_count": 2,
   "metadata": {
    "collapsed": false
   },
   "outputs": [
    {
     "name": "stderr",
     "output_type": "stream",
     "text": [
      "3770122it [39:54, 1574.52it/s]\n",
      "80it [00:00, 797.39it/s]"
     ]
    },
    {
     "name": "stdout",
     "output_type": "stream",
     "text": [
      "--- 2394.54639506 seconds ---\n"
     ]
    },
    {
     "name": "stderr",
     "output_type": "stream",
     "text": [
      "3770122it [39:33, 1588.25it/s]\n",
      "155it [00:00, 1548.56it/s]"
     ]
    },
    {
     "name": "stdout",
     "output_type": "stream",
     "text": [
      "--- 4768.30729103 seconds ---\n"
     ]
    },
    {
     "name": "stderr",
     "output_type": "stream",
     "text": [
      "3770122it [39:25, 1594.07it/s]\n",
      "303it [00:00, 1503.13it/s]"
     ]
    },
    {
     "name": "stdout",
     "output_type": "stream",
     "text": [
      "--- 7133.40092802 seconds ---\n"
     ]
    },
    {
     "name": "stderr",
     "output_type": "stream",
     "text": [
      "3770122it [39:20, 1597.25it/s]\n",
      "145it [00:00, 1446.44it/s]"
     ]
    },
    {
     "name": "stdout",
     "output_type": "stream",
     "text": [
      "--- 9493.79048204 seconds ---\n"
     ]
    },
    {
     "name": "stderr",
     "output_type": "stream",
     "text": [
      "3770122it [39:22, 1595.70it/s]\n",
      "309it [00:00, 1524.01it/s]"
     ]
    },
    {
     "name": "stdout",
     "output_type": "stream",
     "text": [
      "--- 11856.462584 seconds ---\n"
     ]
    },
    {
     "name": "stderr",
     "output_type": "stream",
     "text": [
      "3770122it [39:22, 1595.55it/s]\n",
      "299it [00:00, 1469.43it/s]"
     ]
    },
    {
     "name": "stdout",
     "output_type": "stream",
     "text": [
      "--- 14219.355839 seconds ---\n"
     ]
    },
    {
     "name": "stderr",
     "output_type": "stream",
     "text": [
      "3770122it [39:31, 1589.65it/s]\n",
      "331it [00:00, 1627.40it/s]"
     ]
    },
    {
     "name": "stdout",
     "output_type": "stream",
     "text": [
      "--- 16591.0260789 seconds ---\n"
     ]
    },
    {
     "name": "stderr",
     "output_type": "stream",
     "text": [
      "3770122it [37:33, 1673.08it/s]\n",
      "328it [00:00, 1633.93it/s]"
     ]
    },
    {
     "name": "stdout",
     "output_type": "stream",
     "text": [
      "--- 18844.4290769 seconds ---\n"
     ]
    },
    {
     "name": "stderr",
     "output_type": "stream",
     "text": [
      "3770122it [37:29, 1675.68it/s]\n",
      "315it [00:00, 1581.90it/s]"
     ]
    },
    {
     "name": "stdout",
     "output_type": "stream",
     "text": [
      "--- 21094.33847 seconds ---\n"
     ]
    },
    {
     "name": "stderr",
     "output_type": "stream",
     "text": [
      "3770122it [37:33, 1673.30it/s]"
     ]
    },
    {
     "name": "stdout",
     "output_type": "stream",
     "text": [
      "--- 23347.4420631 seconds ---\n"
     ]
    },
    {
     "name": "stderr",
     "output_type": "stream",
     "text": [
      "\n"
     ]
    }
   ],
   "source": [
    "#alpha = 0.2\n",
    "alphas = [0.05, 0.1, 0.15, 0.2, 0.25, 0.3, 0.35, 0.4, 0.45, 0.5]\n",
    "performance = []\n",
    "start_time = time.time()\n",
    "\n",
    "\n",
    "profile = [0] * 10\n",
    "import tqdm\n",
    "def extract_features(features_string):\n",
    "    return np.matrix(map(lambda x: float(x.split(':')[1]), features_string.split(' ')[1:6]))\n",
    "\n",
    "for alpha in alphas:\n",
    "    data = open('data10')\n",
    "    user_articles = [''] * 20\n",
    "    payoff_for_user = [0.] * 20\n",
    "    sum_reward_of_alg = 0.\n",
    "    sum_reward_of_data = 0.\n",
    "    matrix_A = {}\n",
    "    inversed_matrix_A = {}\n",
    "    vector_b = {}\n",
    "    payoff = {}\n",
    "    tetas = {}\n",
    "\n",
    "    try:\n",
    "        for line in tqdm.tqdm(data):\n",
    "            splitted = line.split('|')\n",
    "            info = map(int, splitted[0].split(' ')[0:3])\n",
    "            user = splitted[1]\n",
    "            sum_reward_of_data = sum_reward_of_data + info[2]\n",
    "            user_features = extract_features(user)\n",
    "            st = time.clock()\n",
    "            profile[0] += st - time.clock()  \n",
    "            for i in xrange(20):\n",
    "                st = time.clock()\n",
    "                article = int(splitted[i + 2].split(' ')[0])\n",
    "                user_articles[i] = article \n",
    "\n",
    "                if article not in matrix_A:\n",
    "                    matrix_A[article] = np.matrix(np.identity(5))\n",
    "                    inversed_matrix_A[article] = np.matrix(np.identity(5))\n",
    "                    vector_b[article] = np.matrix(np.zeros(5))\n",
    "                    tetas[article] = np.matrix(np.zeros(5)).T\n",
    "\n",
    "\n",
    "\n",
    "                inverse_matrix = inversed_matrix_A[article] #np.ndarray\n",
    "\n",
    "\n",
    "                teta = tetas[article]\n",
    "\n",
    "\n",
    "                payoff[article] = teta.T * user_features.T  + alpha * math.sqrt(user_features * inverse_matrix  * user_features.T)\n",
    "                payoff_for_user[i] = (float(payoff[article]))\n",
    "\n",
    "            profile[1] += st - time.clock()\n",
    "            st = time.clock()\n",
    "\n",
    "            winner = np.argwhere(payoff_for_user == np.amax(payoff_for_user))\n",
    "            chose_article = user_articles[random.choice(map(int, winner))]\n",
    "            #print 'chose', chose_article\n",
    "\n",
    "            profile[2] += st - time.clock()\n",
    "            st = time.clock()\n",
    "            if chose_article == info[1]: #if no information about article it ignors\n",
    "                real_payoff = info[2] #click information\n",
    "                sum_reward_of_alg = sum_reward_of_alg + real_payoff\n",
    "                A = matrix_A[chose_article]\n",
    "                b = vector_b[chose_article]\n",
    "\n",
    "                matrix_A_buf =  A + user_features.T * user_features\n",
    "                matrix_A[chose_article] = matrix_A_buf\n",
    "                inversed_matrix_A[chose_article] = matrix_A_buf.I\n",
    "                tetas[chose_article] = inversed_matrix_A[chose_article] * vector_b[chose_article].T\n",
    "                vector_b[chose_article] = b + real_payoff * user_features\n",
    "                profile[4] += st - time.clock()\n",
    "                st = time.clock()\n",
    "            else:\n",
    "                #print 'No information about payoff of', chose_article\n",
    "                pass\n",
    "\n",
    "            profile[3] += st - time.clock()\n",
    "            st = time.clock()\n",
    "\n",
    "\n",
    "\n",
    "\n",
    "        data.close()\n",
    "        performance.append(sum_reward_of_alg/sum_reward_of_data)\n",
    "        print(\"--- %s seconds ---\" % (time.time() - start_time))\n",
    "    except KeyboardInterrupt:\n",
    "        print \"Interrupted\"\n",
    "        print profile"
   ]
  },
  {
   "cell_type": "code",
   "execution_count": 3,
   "metadata": {
    "collapsed": false
   },
   "outputs": [
    {
     "name": "stdout",
     "output_type": "stream",
     "text": [
      "[0.07203009623220856, 0.07138799937436717, 0.07262280102406217, 0.07082822262650543, 0.07451616355359451, 0.0725651769470764, 0.07257340895807436, 0.0722194324851618, 0.0726886571120459, 0.07221120047416384]\n"
     ]
    },
    {
     "data": {
      "image/png": "[encoded data removed]",
      "text/plain": [
       "<matplotlib.figure.Figure at 0x1092229d0>"
      ]
     },
     "metadata": {},
     "output_type": "display_data"
    }
   ],
   "source": [
    "plt.plot(alphas, performance)\n",
    "print performance\n"
   ]
  },
  {
   "cell_type": "code",
   "execution_count": null,
   "metadata": {
    "collapsed": true
   },
   "outputs": [],
   "source": []
  },
  {
   "cell_type": "code",
   "execution_count": null,
   "metadata": {
    "collapsed": true
   },
   "outputs": [],
   "source": []
  }
 ],
 "metadata": {
  "kernelspec": {
   "display_name": "Python 2",
   "language": "python",
   "name": "python2"
  },
  "language_info": {
   "codemirror_mode": {
    "name": "ipython",
    "version": 2
   },
   "file_extension": ".py",
   "mimetype": "text/x-python",
   "name": "python",
   "nbconvert_exporter": "python",
   "pygments_lexer": "ipython2",
   "version": "2.7.10"
  }
 },
 "nbformat": 4,
 "nbformat_minor": 0
}
