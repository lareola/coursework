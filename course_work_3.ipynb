{
 "cells": [
  {
   "cell_type": "code",
   "execution_count": 2,
   "metadata": {
    "collapsed": true
   },
   "outputs": [],
   "source": [
    "import matplotlib.pyplot as plt\n",
    "import pandas \n",
    "import math\n",
    "import numpy as np\n",
    "import random\n",
    "from numpy import linalg\n",
    "from numpy import matrix\n",
    "import time\n",
    "%matplotlib inline"
   ]
  },
  {
   "cell_type": "code",
   "execution_count": 3,
   "metadata": {
    "collapsed": false
   },
   "outputs": [
    {
     "name": "stdout",
     "output_type": "stream",
     "text": [
      "--- 24.4540719986 seconds ---\n"
     ]
    }
   ],
   "source": [
    "start_time = time.time()\n",
    "regret_info = {}\n",
    "data = open('data10', 'r')\n",
    "for line in data:\n",
    "    splitted = line.split('|')\n",
    "    user = splitted[1]\n",
    "    features = splitted[0].split(' ')\n",
    "    article = int(features[1])\n",
    "    click = int(features[2])\n",
    "    user_article = article #(user, article)\n",
    "    if user_article in regret_info:\n",
    "        show_info = regret_info[user_article]\n",
    "        show_info[0] = show_info[0] + 1\n",
    "        show_info[1] = show_info[1] + click\n",
    "        regret_info[user_article] = show_info\n",
    "    else:\n",
    "        regret_info[user_article] = [1, click]\n",
    "data.close()\n",
    "print(\"--- %s seconds ---\" % (time.time() - start_time))"
   ]
  },
  {
   "cell_type": "markdown",
   "metadata": {},
   "source": [
    "Compute the "
   ]
  },
  {
   "cell_type": "code",
   "execution_count": 4,
   "metadata": {
    "collapsed": false
   },
   "outputs": [],
   "source": [
    "for elem in regret_info.keys():\n",
    "    array = regret_info[elem]\n",
    "    regret_info[elem] = float(array[1])/float(array[0])"
   ]
  },
  {
   "cell_type": "code",
   "execution_count": 4,
   "metadata": {
    "collapsed": false
   },
   "outputs": [
    {
     "data": {
      "text/plain": [
       "39"
      ]
     },
     "execution_count": 4,
     "metadata": {},
     "output_type": "execute_result"
    }
   ],
   "source": [
    "len(regret_info)"
   ]
  },
  {
   "cell_type": "markdown",
   "metadata": {},
   "source": [
    "Creating hahs tables: article -> martix for article A, article -> vector for article b and \n",
    "article -> payoff estimate p."
   ]
  },
  {
   "cell_type": "code",
   "execution_count": null,
   "metadata": {
    "collapsed": false
   },
   "outputs": [],
   "source": []
  },
  {
   "cell_type": "markdown",
   "metadata": {},
   "source": [
    "LinUCB algorithm!"
   ]
  },
  {
   "cell_type": "code",
   "execution_count": 14,
   "metadata": {
    "collapsed": false
   },
   "outputs": [
    {
     "name": "stdout",
     "output_type": "stream",
     "text": [
      "0.077441869584\n"
     ]
    }
   ],
   "source": [
    "alpha = 0.15\n",
    "max_regret = max(regret_info.values())\n",
    "print max_regret"
   ]
  },
  {
   "cell_type": "code",
   "execution_count": 1,
   "metadata": {
    "collapsed": false
   },
   "outputs": [
    {
     "ename": "NameError",
     "evalue": "name 'time' is not defined",
     "output_type": "error",
     "traceback": [
      "\u001b[0;31m---------------------------------------------------------------------------\u001b[0m",
      "\u001b[0;31mNameError\u001b[0m                                 Traceback (most recent call last)",
      "\u001b[0;32m<ipython-input-1-05fbd52e36de>\u001b[0m in \u001b[0;36m<module>\u001b[0;34m()\u001b[0m\n\u001b[0;32m----> 1\u001b[0;31m \u001b[0mstart_time\u001b[0m \u001b[0;34m=\u001b[0m \u001b[0mtime\u001b[0m\u001b[0;34m.\u001b[0m\u001b[0mtime\u001b[0m\u001b[0;34m(\u001b[0m\u001b[0;34m)\u001b[0m\u001b[0;34m\u001b[0m\u001b[0m\n\u001b[0m\u001b[1;32m      2\u001b[0m \u001b[0mdata\u001b[0m \u001b[0;34m=\u001b[0m \u001b[0mopen\u001b[0m\u001b[0;34m(\u001b[0m\u001b[0;34m'data10'\u001b[0m\u001b[0;34m)\u001b[0m\u001b[0;34m\u001b[0m\u001b[0m\n\u001b[1;32m      3\u001b[0m \u001b[0muser_articles\u001b[0m \u001b[0;34m=\u001b[0m \u001b[0;34m[\u001b[0m\u001b[0;34m''\u001b[0m\u001b[0;34m]\u001b[0m \u001b[0;34m*\u001b[0m \u001b[0;36m20\u001b[0m\u001b[0;34m\u001b[0m\u001b[0m\n\u001b[1;32m      4\u001b[0m \u001b[0marticle_features\u001b[0m \u001b[0;34m=\u001b[0m \u001b[0;34m{\u001b[0m\u001b[0;34m}\u001b[0m\u001b[0;34m\u001b[0m\u001b[0m\n\u001b[1;32m      5\u001b[0m \u001b[0mpayoff_for_user\u001b[0m \u001b[0;34m=\u001b[0m \u001b[0;34m[\u001b[0m\u001b[0;36m0.\u001b[0m\u001b[0;34m]\u001b[0m \u001b[0;34m*\u001b[0m \u001b[0;36m20\u001b[0m\u001b[0;34m\u001b[0m\u001b[0m\n",
      "\u001b[0;31mNameError\u001b[0m: name 'time' is not defined"
     ]
    }
   ],
   "source": [
    "start_time = time.time()\n",
    "data = open('data10')\n",
    "user_articles = [''] * 20\n",
    "article_features = {}\n",
    "payoff_for_user = [0.] * 20\n",
    "regret = [0.] * 20\n",
    "distance = []\n",
    "matrix_A = {}\n",
    "inversed_matrix_A = {}\n",
    "vector_b = {}\n",
    "payoff = {}\n",
    "tetas = {}\n",
    "\n",
    "\n",
    "profile = [0] * 10\n",
    "import tqdm\n",
    "def extract_features(features_string):\n",
    "    return np.matrix(map(lambda x: float(x.split(':')[1]), features_string.split(' ')[1:6]))\n",
    "\n",
    "try:\n",
    "    for line in tqdm.tqdm(data):\n",
    "        splitted = line.split('|')\n",
    "        user = splitted[1]\n",
    "        st = time.clock()\n",
    "        profile[0] += st - time.clock()  \n",
    "        for i in xrange(20):\n",
    "            st = time.clock()\n",
    "            article = int(splitted[i + 2].split(' ')[0])\n",
    "            user_articles[i] = article #(user, article)\n",
    "\n",
    "            if article not in article_features:\n",
    "                article_features[article] = extract_features(splitted[i + 2])\n",
    "            \n",
    "            if user_articles[i] not in matrix_A:\n",
    "                matrix_A[user_articles[i]] = np.matrix(np.identity(5))\n",
    "                inversed_matrix_A[user_articles[i]] = np.matrix(np.identity(5))\n",
    "                vector_b[user_articles[i]] = np.matrix(np.zeros(5))\n",
    "                tetas[user_articles[i]] = np.matrix(np.zeros(5)).T\n",
    "                \n",
    "           \n",
    "            \n",
    "            inverse_matrix = inversed_matrix_A[article] #np.ndarray\n",
    "            \n",
    "            \n",
    "            teta = tetas[article]\n",
    "            features = np.array(features)\n",
    "\n",
    "            ar_features =  article_features[article]\n",
    "           \n",
    "            payoff[user_articles[i]] = teta.T * ar_features.T  + alpha * math.sqrt(ar_features * inverse_matrix  * ar_features.T)\n",
    "            payoff_for_user[i] = (float(payoff[user_articles[i]]))\n",
    "            regret[i] = regret_info[user_articles[i]]\n",
    "           \n",
    "        profile[1] += st - time.clock()\n",
    "        st = time.clock()\n",
    "        #break\n",
    "        max_payoff = np.amax(payoff_for_user)\n",
    "        max_regret = np.amax(regret)\n",
    "        distance.append(abs(max_regret - max_payoff))\n",
    "        winner = np.argwhere(payoff_for_user == np.amax(payoff_for_user))\n",
    "        chose_article = user_articles[random.choice(map(int, winner))]\n",
    "        #print 'chose', chose_article\n",
    "        \n",
    "        profile[2] += st - time.clock()\n",
    "        st = time.clock()\n",
    "        if chose_article in regret_info:\n",
    "            real_payoff = regret_info[chose_article]\n",
    "        else:\n",
    "            print 'No information about payoff of', chose_article\n",
    "            real_payoff = 0.\n",
    "            \n",
    "        profile[3] += st - time.clock()\n",
    "        st = time.clock()\n",
    "        \n",
    "        A = matrix_A[chose_article]\n",
    "        b = vector_b[chose_article]\n",
    "        \n",
    "        ar_features = article_features[chose_article]\n",
    "        matrix_A_buf =  A + ar_features.T * ar_features\n",
    "        matrix_A[chose_article] = matrix_A_buf\n",
    "        inversed_matrix_A[chose_article] = matrix_A_buf.I\n",
    "        tetas[chose_article] = inversed_matrix_A[chose_article] * vector_b[chose_article].T\n",
    "        vector_b[chose_article] = b + real_payoff * ar_features\n",
    "        profile[4] += st - time.clock()\n",
    "        st = time.clock()\n",
    "        \n",
    "       \n",
    "    data.close()\n",
    "    print(\"--- %s seconds ---\" % (time.time() - start_time))\n",
    "except KeyboardInterrupt:\n",
    "    print \"Interrupted\"\n",
    "    print profile"
   ]
  },
  {
   "cell_type": "code",
   "execution_count": 5,
   "metadata": {
    "collapsed": false
   },
   "outputs": [
    {
     "ename": "NameError",
     "evalue": "name 'average_distance' is not defined",
     "output_type": "error",
     "traceback": [
      "\u001b[0;31m---------------------------------------------------------------------------\u001b[0m",
      "\u001b[0;31mNameError\u001b[0m                                 Traceback (most recent call last)",
      "\u001b[0;32m<ipython-input-5-c48286ddd103>\u001b[0m in \u001b[0;36m<module>\u001b[0;34m()\u001b[0m\n\u001b[1;32m      1\u001b[0m \u001b[0;31m#average_distance = []\u001b[0m\u001b[0;34m\u001b[0m\u001b[0;34m\u001b[0m\u001b[0m\n\u001b[0;32m----> 2\u001b[0;31m \u001b[0;32mprint\u001b[0m \u001b[0maverage_distance\u001b[0m\u001b[0;34m\u001b[0m\u001b[0m\n\u001b[0m",
      "\u001b[0;31mNameError\u001b[0m: name 'average_distance' is not defined"
     ]
    }
   ],
   "source": [
    "average_distance = []\n"
   ]
  },
  {
   "cell_type": "code",
   "execution_count": 13,
   "metadata": {
    "collapsed": false
   },
   "outputs": [
    {
     "name": "stdout",
     "output_type": "stream",
     "text": [
      "[0.014777171825033256, 0.00020234089278239057]\n"
     ]
    }
   ],
   "source": [
    "average_distance.append(np.sum(distance)/len(distance))\n",
    "print average_distance\n"
   ]
  },
  {
   "cell_type": "code",
   "execution_count": null,
   "metadata": {
    "collapsed": false
   },
   "outputs": [],
   "source": [
    "payoff_for_user"
   ]
  },
  {
   "cell_type": "code",
   "execution_count": 6,
   "metadata": {
    "collapsed": false
   },
   "outputs": [
    {
     "name": "stderr",
     "output_type": "stream",
     "text": [
      "3770122it [51:47, 1213.19it/s]\n"
     ]
    },
    {
     "name": "stdout",
     "output_type": "stream",
     "text": [
      "--- 3109.10899711 seconds ---\n"
     ]
    },
    {
     "name": "stderr",
     "output_type": "stream",
     "text": [
      "3770122it [50:20, 1248.02it/s]\n",
      "0it [00:00, ?it/s]"
     ]
    },
    {
     "name": "stdout",
     "output_type": "stream",
     "text": [
      "--- 3021.82630897 seconds ---\n"
     ]
    },
    {
     "name": "stderr",
     "output_type": "stream",
     "text": [
      "3770122it [49:11, 1277.40it/s]\n",
      "0it [00:00, ?it/s]"
     ]
    },
    {
     "name": "stdout",
     "output_type": "stream",
     "text": [
      "--- 2951.859236 seconds ---\n"
     ]
    },
    {
     "name": "stderr",
     "output_type": "stream",
     "text": [
      "3770122it [48:27, 1296.91it/s]\n",
      "0it [00:00, ?it/s]"
     ]
    },
    {
     "name": "stdout",
     "output_type": "stream",
     "text": [
      "--- 2907.48794794 seconds ---\n"
     ]
    },
    {
     "name": "stderr",
     "output_type": "stream",
     "text": [
      "3770122it [48:22, 1299.07it/s]\n",
      "0it [00:00, ?it/s]"
     ]
    },
    {
     "name": "stdout",
     "output_type": "stream",
     "text": [
      "--- 2902.63215399 seconds ---\n"
     ]
    },
    {
     "name": "stderr",
     "output_type": "stream",
     "text": [
      "3770122it [48:11, 1303.93it/s]\n",
      "0it [00:00, ?it/s]"
     ]
    },
    {
     "name": "stdout",
     "output_type": "stream",
     "text": [
      "--- 2891.81152701 seconds ---\n"
     ]
    },
    {
     "name": "stderr",
     "output_type": "stream",
     "text": [
      "3770122it [47:24, 1325.46it/s]\n",
      "0it [00:00, ?it/s]"
     ]
    },
    {
     "name": "stdout",
     "output_type": "stream",
     "text": [
      "--- 2844.85761809 seconds ---\n"
     ]
    },
    {
     "name": "stderr",
     "output_type": "stream",
     "text": [
      "3770122it [46:14, 1358.76it/s]\n",
      "0it [00:00, ?it/s]"
     ]
    },
    {
     "name": "stdout",
     "output_type": "stream",
     "text": [
      "--- 2775.154248 seconds ---\n"
     ]
    },
    {
     "name": "stderr",
     "output_type": "stream",
     "text": [
      "3770122it [46:54, 1339.69it/s]\n",
      "0it [00:00, ?it/s]"
     ]
    },
    {
     "name": "stdout",
     "output_type": "stream",
     "text": [
      "--- 2814.69050002 seconds ---\n"
     ]
    },
    {
     "name": "stderr",
     "output_type": "stream",
     "text": [
      "3770122it [46:53, 1339.92it/s]\n"
     ]
    },
    {
     "name": "stdout",
     "output_type": "stream",
     "text": [
      "--- 2814.15815115 seconds ---\n"
     ]
    }
   ],
   "source": [
    "alphas = [0.05, 0.1, 0.15, 0.2, 0.25, 0.3, 0.35, 0.4, 0.45, 0.5]\n",
    "average_distance = []\n",
    "for alpha in alphas:\n",
    "    start_time = time.time()\n",
    "    data = open('data10')\n",
    "    user_articles = [''] * 20\n",
    "    article_features = {}\n",
    "    payoff_for_user = [0.] * 20\n",
    "    regret = [0.] * 20\n",
    "    distance = []\n",
    "    matrix_A = {}\n",
    "    inversed_matrix_A = {}\n",
    "    vector_b = {}\n",
    "    payoff = {}\n",
    "    tetas = {}\n",
    "\n",
    "\n",
    "    profile = [0] * 10\n",
    "    import tqdm\n",
    "    def extract_features(features_string):\n",
    "        return np.matrix(map(lambda x: float(x.split(':')[1]), features_string.split(' ')[1:6]))\n",
    "\n",
    "    try:\n",
    "        for line in tqdm.tqdm(data):\n",
    "            splitted = line.split('|')\n",
    "            user = splitted[1]\n",
    "            st = time.clock()\n",
    "            profile[0] += st - time.clock()  \n",
    "            for i in xrange(20):\n",
    "                st = time.clock()\n",
    "                article = int(splitted[i + 2].split(' ')[0])\n",
    "                user_articles[i] = article #(user, article)\n",
    "\n",
    "                if article not in article_features:\n",
    "                    article_features[article] = extract_features(splitted[i + 2])\n",
    "\n",
    "                if user_articles[i] not in matrix_A:\n",
    "                    matrix_A[user_articles[i]] = np.matrix(np.identity(5))\n",
    "                    inversed_matrix_A[user_articles[i]] = np.matrix(np.identity(5))\n",
    "                    vector_b[user_articles[i]] = np.matrix(np.zeros(5))\n",
    "                    tetas[user_articles[i]] = np.matrix(np.zeros(5)).T\n",
    "\n",
    "\n",
    "\n",
    "                inverse_matrix = inversed_matrix_A[article] #np.ndarray\n",
    "\n",
    "\n",
    "                teta = tetas[article]\n",
    "                features = np.array(features)\n",
    "\n",
    "                ar_features =  article_features[article]\n",
    "\n",
    "                payoff[user_articles[i]] = teta.T * ar_features.T  + alpha * math.sqrt(ar_features * inverse_matrix  * ar_features.T)\n",
    "                payoff_for_user[i] = (float(payoff[user_articles[i]]))\n",
    "                regret[i] = regret_info[user_articles[i]]\n",
    "\n",
    "            profile[1] += st - time.clock()\n",
    "            st = time.clock()\n",
    "            #break\n",
    "            max_payoff = np.amax(payoff_for_user)\n",
    "            max_regret = np.amax(regret)\n",
    "            distance.append(abs(max_regret - max_payoff))\n",
    "            winner = np.argwhere(payoff_for_user == np.amax(payoff_for_user))\n",
    "            chose_article = user_articles[random.choice(map(int, winner))]\n",
    "            #print 'chose', chose_article\n",
    "\n",
    "            profile[2] += st - time.clock()\n",
    "            st = time.clock()\n",
    "            if chose_article in regret_info:\n",
    "                real_payoff = regret_info[chose_article]\n",
    "            else:\n",
    "                print 'No information about payoff of', chose_article\n",
    "                real_payoff = 0.\n",
    "\n",
    "            profile[3] += st - time.clock()\n",
    "            st = time.clock()\n",
    "\n",
    "            A = matrix_A[chose_article]\n",
    "            b = vector_b[chose_article]\n",
    "\n",
    "            ar_features = article_features[chose_article]\n",
    "            matrix_A_buf =  A + ar_features.T * ar_features\n",
    "            matrix_A[chose_article] = matrix_A_buf\n",
    "            inversed_matrix_A[chose_article] = matrix_A_buf.I\n",
    "            tetas[chose_article] = inversed_matrix_A[chose_article] * vector_b[chose_article].T\n",
    "            vector_b[chose_article] = b + real_payoff * ar_features\n",
    "            profile[4] += st - time.clock()\n",
    "            st = time.clock()\n",
    "\n",
    "\n",
    "        data.close()\n",
    "        print(\"--- %s seconds ---\" % (time.time() - start_time))\n",
    "    except KeyboardInterrupt:\n",
    "        print \"Interrupted\"\n",
    "        print profile\n",
    "    average_distance.append(np.sum(distance)/len(distance))"
   ]
  },
  {
   "cell_type": "raw",
   "metadata": {
    "collapsed": false
   },
   "source": []
  },
  {
   "cell_type": "code",
   "execution_count": 9,
   "metadata": {
    "collapsed": false
   },
   "outputs": [
    {
     "ename": "AttributeError",
     "evalue": "'module' object has no attribute 'label'",
     "output_type": "error",
     "traceback": [
      "\u001b[0;31m---------------------------------------------------------------------------\u001b[0m",
      "\u001b[0;31mAttributeError\u001b[0m                            Traceback (most recent call last)",
      "\u001b[0;32m<ipython-input-9-dd60af3cef50>\u001b[0m in \u001b[0;36m<module>\u001b[0;34m()\u001b[0m\n\u001b[1;32m      1\u001b[0m \u001b[0mplt\u001b[0m\u001b[0;34m.\u001b[0m\u001b[0mplot\u001b[0m\u001b[0;34m(\u001b[0m\u001b[0malphas\u001b[0m\u001b[0;34m,\u001b[0m \u001b[0maverage_distance\u001b[0m\u001b[0;34m)\u001b[0m\u001b[0;34m\u001b[0m\u001b[0m\n\u001b[0;32m----> 2\u001b[0;31m \u001b[0mplt\u001b[0m\u001b[0;34m.\u001b[0m\u001b[0mlabel\u001b[0m\u001b[0;34m(\u001b[0m\u001b[0mCTR\u001b[0m\u001b[0;34m)\u001b[0m\u001b[0;34m\u001b[0m\u001b[0m\n\u001b[0m",
      "\u001b[0;31mAttributeError\u001b[0m: 'module' object has no attribute 'label'"
     ]
    },
    {
     "data": {
      "image/png": "[encoded data removed]",
      "text/plain": [
       "<matplotlib.figure.Figure at 0x10670d750>"
      ]
     },
     "metadata": {},
     "output_type": "display_data"
    }
   ],
   "source": [
    "plt.plot(alphas, average_distance)"
   ]
  },
  {
   "cell_type": "code",
   "execution_count": null,
   "metadata": {
    "collapsed": false
   },
   "outputs": [],
   "source": []
  },
  {
   "cell_type": "code",
   "execution_count": null,
   "metadata": {
    "collapsed": false
   },
   "outputs": [],
   "source": []
  },
  {
   "cell_type": "code",
   "execution_count": null,
   "metadata": {
    "collapsed": false
   },
   "outputs": [],
   "source": [
    "\n"
   ]
  },
  {
   "cell_type": "code",
   "execution_count": null,
   "metadata": {
    "collapsed": true
   },
   "outputs": [],
   "source": []
  }
 ],
 "metadata": {
  "kernelspec": {
   "display_name": "Python 2",
   "language": "python",
   "name": "python2"
  },
  "language_info": {
   "codemirror_mode": {
    "name": "ipython",
    "version": 2
   },
   "file_extension": ".py",
   "mimetype": "text/x-python",
   "name": "python",
   "nbconvert_exporter": "python",
   "pygments_lexer": "ipython2",
   "version": "2.7.10"
  }
 },
 "nbformat": 4,
 "nbformat_minor": 0
}
