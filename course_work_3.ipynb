{
 "cells": [
  {
   "cell_type": "code",
   "execution_count": 3,
   "metadata": {
    "collapsed": true
   },
   "outputs": [],
   "source": [
    "import matplotlib.pyplot as plt\n",
    "import pandas \n",
    "import math\n",
    "import numpy as np\n",
    "import random\n",
    "from numpy import linalg\n",
    "from numpy import matrix\n",
    "%matplotlib inline"
   ]
  },
  {
   "cell_type": "code",
   "execution_count": 4,
   "metadata": {
    "collapsed": false
   },
   "outputs": [],
   "source": [
    "regret_info = {}\n",
    "data = open('data10', 'r')\n",
    "for line in data:\n",
    "    user = line.split('|')[1]\n",
    "    article = line.split('|')[0].split(' ')[1]\n",
    "    click = int(line.split('|')[0].split(' ')[2])\n",
    "    user_article = article #(user, article)\n",
    "    if user_article in regret_info:\n",
    "        show_info = regret_info[user_article]\n",
    "        show_info[0] = show_info[0] + 1\n",
    "        show_info[1] = show_info[1] + click\n",
    "        regret_info[user_article] = show_info\n",
    "    else:\n",
    "        regret_info[user_article] = [1, click]\n",
    "data.close()"
   ]
  },
  {
   "cell_type": "markdown",
   "metadata": {},
   "source": [
    "Compute the "
   ]
  },
  {
   "cell_type": "code",
   "execution_count": 5,
   "metadata": {
    "collapsed": true
   },
   "outputs": [],
   "source": [
    "for elem in regret_info.keys():\n",
    "    array = regret_info[elem]\n",
    "    regret_info[elem] = float(array[1])/float(array[0])"
   ]
  },
  {
   "cell_type": "code",
   "execution_count": 6,
   "metadata": {
    "collapsed": false
   },
   "outputs": [
    {
     "data": {
      "text/plain": [
       "39"
      ]
     },
     "execution_count": 6,
     "metadata": {},
     "output_type": "execute_result"
    }
   ],
   "source": [
    "len(regret_info)"
   ]
  },
  {
   "cell_type": "markdown",
   "metadata": {},
   "source": [
    "Creating hahs tables: article -> martix for article A, article -> vector for article b and \n",
    "article -> payoff estimate p."
   ]
  },
  {
   "cell_type": "code",
   "execution_count": 7,
   "metadata": {
    "collapsed": false
   },
   "outputs": [],
   "source": [
    "matrix_A = {}\n",
    "vector_b = {}\n",
    "payoff = {}\n",
    "features = [0.,0.,0.,0.,0.]"
   ]
  },
  {
   "cell_type": "markdown",
   "metadata": {},
   "source": [
    "LinUCB algorithm!"
   ]
  },
  {
   "cell_type": "code",
   "execution_count": 8,
   "metadata": {
    "collapsed": false
   },
   "outputs": [
    {
     "name": "stdout",
     "output_type": "stream",
     "text": [
      "0.077441869584\n"
     ]
    }
   ],
   "source": [
    "alpha = 0.5\n",
    "max_regret = max(regret_info.values())\n",
    "print max_regret"
   ]
  },
  {
   "cell_type": "code",
   "execution_count": null,
   "metadata": {
    "collapsed": false
   },
   "outputs": [],
   "source": [
    "data = open('data10')\n",
    "user_articles = [''] * 20\n",
    "article_features = {}\n",
    "payoff_for_user = [0.] * 20\n",
    "features = [0.,0.,0.,0.,0.]\n",
    "average_distance = []\n",
    "\n",
    "for line in data:\n",
    "    user = line.split('|')[1]\n",
    "    \n",
    "    for i in xrange(20):\n",
    "        article = line.split('|')[i + 2].split(' ')[0]\n",
    "        user_articles[i] = article #(user, article)\n",
    "        \n",
    "        if article not in article_features:\n",
    "            for j in xrange(5):\n",
    "                features[j] = float(line.split('|')[i + 2].split(' ')[j + 1].split(':')[1])\n",
    "            article_features[article] = features\n",
    "        \n",
    "        if user_articles[i] not in matrix_A:\n",
    "            matrix_A[user_articles[i]] = np.identity(5)\n",
    "            vector_b[user_articles[i]] = np.zeros(5)\n",
    "        inverse_matrix = np.matrix(matrix_A[user_articles[i]]).I\n",
    "        teta = inverse_matrix * np.matrix(vector_b[user_articles[i]]).T\n",
    "        features = np.array(features)\n",
    "        \n",
    "        payoff[user_articles[i]] = teta.T * np.matrix(article_features[article]).T  + alpha * math.sqrt(np.matrix(article_features[article]) * inverse_matrix  * np.matrix(article_features[article]).T)\n",
    "        \n",
    "        payoff_for_user[i] = (float(payoff[user_articles[i]]))\n",
    "    \n",
    "    #break\n",
    "    max_payoff = np.amax(payoff_for_user)\n",
    "    average_distance.append(max_payoff - max_regret)\n",
    "    winner = np.argwhere(payoff_for_user == max_payoff)\n",
    "    chose_article = user_articles[random.choice(map(int, winner))]\n",
    "    #print 'chose', chose_article\n",
    "    if chose_article in regret_info:\n",
    "        real_payoff = regret_info[chose_article]\n",
    "    else:\n",
    "        print 'No information about payoff of', chose_article\n",
    "        real_payoff = 0.\n",
    "    A = np.matrix(matrix_A[chose_article])\n",
    "    b = np.matrix(vector_b[chose_article])\n",
    "    matrix_A[chose_article] = A + np.matrix(article_features[chose_article]).T * np.matrix(article_features[chose_article])\n",
    "    vector_b[chose_article] = b + real_payoff * np.matrix(article_features[chose_article])\n",
    "data.close()"
   ]
  },
  {
   "cell_type": "code",
   "execution_count": null,
   "metadata": {
    "collapsed": false
   },
   "outputs": [],
   "source": [
    "plt.hist(regret_info.values())\n"
   ]
  },
  {
   "cell_type": "code",
   "execution_count": null,
   "metadata": {
    "collapsed": false
   },
   "outputs": [],
   "source": []
  },
  {
   "cell_type": "code",
   "execution_count": null,
   "metadata": {
    "collapsed": false
   },
   "outputs": [],
   "source": [
    "payoff_for_user"
   ]
  },
  {
   "cell_type": "code",
   "execution_count": null,
   "metadata": {
    "collapsed": false
   },
   "outputs": [],
   "source": []
  },
  {
   "cell_type": "code",
   "execution_count": null,
   "metadata": {
    "collapsed": false
   },
   "outputs": [],
   "source": []
  },
  {
   "cell_type": "code",
   "execution_count": null,
   "metadata": {
    "collapsed": false
   },
   "outputs": [],
   "source": []
  },
  {
   "cell_type": "code",
   "execution_count": null,
   "metadata": {
    "collapsed": false
   },
   "outputs": [],
   "source": []
  },
  {
   "cell_type": "code",
   "execution_count": null,
   "metadata": {
    "collapsed": false
   },
   "outputs": [],
   "source": []
  },
  {
   "cell_type": "code",
   "execution_count": null,
   "metadata": {
    "collapsed": false
   },
   "outputs": [],
   "source": [
    "\n"
   ]
  },
  {
   "cell_type": "code",
   "execution_count": null,
   "metadata": {
    "collapsed": true
   },
   "outputs": [],
   "source": []
  }
 ],
 "metadata": {
  "kernelspec": {
   "display_name": "Python 2",
   "language": "python",
   "name": "python2"
  },
  "language_info": {
   "codemirror_mode": {
    "name": "ipython",
    "version": 2
   },
   "file_extension": ".py",
   "mimetype": "text/x-python",
   "name": "python",
   "nbconvert_exporter": "python",
   "pygments_lexer": "ipython2",
   "version": "2.7.10"
  }
 },
 "nbformat": 4,
 "nbformat_minor": 0
}
