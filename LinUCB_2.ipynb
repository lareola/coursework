{
 "cells": [
  {
   "cell_type": "code",
   "execution_count": 3,
   "metadata": {
    "collapsed": false
   },
   "outputs": [
    {
     "name": "stdout",
     "output_type": "stream",
     "text": [
      "ERROR! Session/line number was not unique in database. History logging moved to new session 55\n"
     ]
    }
   ],
   "source": [
    "import matplotlib.pyplot as plt\n",
    "import pandas \n",
    "import math\n",
    "import numpy as np\n",
    "import random\n",
    "from numpy import linalg\n",
    "from numpy import matrix\n",
    "import time\n",
    "%matplotlib inline"
   ]
  },
  {
   "cell_type": "code",
   "execution_count": 4,
   "metadata": {
    "collapsed": false
   },
   "outputs": [
    {
     "name": "stderr",
     "output_type": "stream",
     "text": [
      "3770122it [40:40, 1545.03it/s]\n",
      "295it [00:00, 1469.04it/s]"
     ]
    },
    {
     "name": "stdout",
     "output_type": "stream",
     "text": [
      "--- 2440.15772009 seconds ---\n"
     ]
    },
    {
     "name": "stderr",
     "output_type": "stream",
     "text": [
      "3770122it [39:51, 1576.14it/s]\n",
      "312it [00:00, 1548.77it/s]"
     ]
    },
    {
     "name": "stdout",
     "output_type": "stream",
     "text": [
      "--- 4832.14913607 seconds ---\n"
     ]
    },
    {
     "name": "stderr",
     "output_type": "stream",
     "text": [
      "3770122it [39:47, 1579.21it/s]\n",
      "304it [00:00, 1534.56it/s]"
     ]
    },
    {
     "name": "stdout",
     "output_type": "stream",
     "text": [
      "--- 7219.49898291 seconds ---\n"
     ]
    },
    {
     "name": "stderr",
     "output_type": "stream",
     "text": [
      "3770122it [39:36, 1586.35it/s]\n",
      "316it [00:00, 1546.88it/s]"
     ]
    },
    {
     "name": "stdout",
     "output_type": "stream",
     "text": [
      "--- 9596.10317993 seconds ---\n"
     ]
    },
    {
     "name": "stderr",
     "output_type": "stream",
     "text": [
      "3770122it [39:43, 1582.07it/s]\n",
      "318it [00:00, 1571.91it/s]"
     ]
    },
    {
     "name": "stdout",
     "output_type": "stream",
     "text": [
      "--- 11979.131341 seconds ---\n"
     ]
    },
    {
     "name": "stderr",
     "output_type": "stream",
     "text": [
      "3770122it [39:32, 1589.37it/s]\n",
      "151it [00:00, 1507.24it/s]"
     ]
    },
    {
     "name": "stdout",
     "output_type": "stream",
     "text": [
      "--- 14351.2123179 seconds ---\n"
     ]
    },
    {
     "name": "stderr",
     "output_type": "stream",
     "text": [
      "3770122it [39:42, 1582.09it/s]\n",
      "325it [00:00, 1625.09it/s]"
     ]
    },
    {
     "name": "stdout",
     "output_type": "stream",
     "text": [
      "--- 16734.2093649 seconds ---\n"
     ]
    },
    {
     "name": "stderr",
     "output_type": "stream",
     "text": [
      "3770122it [39:36, 1586.56it/s]\n",
      "308it [00:00, 1503.25it/s]"
     ]
    },
    {
     "name": "stdout",
     "output_type": "stream",
     "text": [
      "--- 19110.5019219 seconds ---\n"
     ]
    },
    {
     "name": "stderr",
     "output_type": "stream",
     "text": [
      "3770122it [39:36, 1586.33it/s]\n",
      "303it [00:00, 1502.69it/s]"
     ]
    },
    {
     "name": "stdout",
     "output_type": "stream",
     "text": [
      "--- 21487.1382029 seconds ---\n"
     ]
    },
    {
     "name": "stderr",
     "output_type": "stream",
     "text": [
      "3770122it [39:30, 1590.18it/s]\n",
      "302it [00:00, 1514.63it/s]"
     ]
    },
    {
     "name": "stdout",
     "output_type": "stream",
     "text": [
      "--- 23858.01508 seconds ---\n"
     ]
    },
    {
     "name": "stderr",
     "output_type": "stream",
     "text": [
      "3770122it [39:41, 1582.78it/s]"
     ]
    },
    {
     "name": "stdout",
     "output_type": "stream",
     "text": [
      "--- 26239.9768839 seconds ---\n"
     ]
    },
    {
     "name": "stderr",
     "output_type": "stream",
     "text": [
      "\n"
     ]
    }
   ],
   "source": [
    "#alpha = 0.2\n",
    "alphas = [0.2, 0.21, 0.22, 0.23, 0.24, 0.25, 0.26, 0.27, 0.28, 0.29, 0.3]\n",
    "performance = []\n",
    "start_time = time.time()\n",
    "\n",
    "\n",
    "profile = [0] * 10\n",
    "import tqdm\n",
    "def extract_features(features_string):\n",
    "    return np.matrix(map(lambda x: float(x.split(':')[1]), features_string.split(' ')[1:6]))\n",
    "\n",
    "for alpha in alphas:\n",
    "    data = open('data10')\n",
    "    user_articles = [''] * 20\n",
    "    payoff_for_user = [0.] * 20\n",
    "    sum_reward_of_alg = 0.\n",
    "    sum_reward_of_data = 0.\n",
    "    matrix_A = {}\n",
    "    inversed_matrix_A = {}\n",
    "    vector_b = {}\n",
    "    payoff = {}\n",
    "    tetas = {}\n",
    "\n",
    "    try:\n",
    "        for line in tqdm.tqdm(data):\n",
    "            splitted = line.split('|')\n",
    "            info = map(int, splitted[0].split(' ')[0:3])\n",
    "            user = splitted[1]\n",
    "            sum_reward_of_data = sum_reward_of_data + info[2]\n",
    "            user_features = extract_features(user)\n",
    "            st = time.clock()\n",
    "            profile[0] += st - time.clock()  \n",
    "            for i in xrange(20):\n",
    "                st = time.clock()\n",
    "                article = int(splitted[i + 2].split(' ')[0])\n",
    "                user_articles[i] = article \n",
    "\n",
    "                if article not in matrix_A:\n",
    "                    matrix_A[article] = np.matrix(np.identity(5))\n",
    "                    inversed_matrix_A[article] = np.matrix(np.identity(5))\n",
    "                    vector_b[article] = np.matrix(np.zeros(5))\n",
    "                    tetas[article] = np.matrix(np.zeros(5)).T\n",
    "\n",
    "\n",
    "\n",
    "                inverse_matrix = inversed_matrix_A[article] #np.ndarray\n",
    "\n",
    "\n",
    "                teta = tetas[article]\n",
    "\n",
    "\n",
    "                payoff[article] = teta.T * user_features.T  + alpha * math.sqrt(user_features * inverse_matrix  * user_features.T)\n",
    "                payoff_for_user[i] = (float(payoff[article]))\n",
    "\n",
    "            profile[1] += st - time.clock()\n",
    "            st = time.clock()\n",
    "\n",
    "            winner = np.argwhere(payoff_for_user == np.amax(payoff_for_user))\n",
    "            chose_article = user_articles[random.choice(map(int, winner))]\n",
    "            #print 'chose', chose_article\n",
    "\n",
    "            profile[2] += st - time.clock()\n",
    "            st = time.clock()\n",
    "            if chose_article == info[1]: #if no information about article it ignors\n",
    "                real_payoff = info[2] #click information\n",
    "                sum_reward_of_alg = sum_reward_of_alg + real_payoff\n",
    "                A = matrix_A[chose_article]\n",
    "                b = vector_b[chose_article]\n",
    "\n",
    "                matrix_A_buf =  A + user_features.T * user_features\n",
    "                matrix_A[chose_article] = matrix_A_buf\n",
    "                inversed_matrix_A[chose_article] = matrix_A_buf.I\n",
    "                tetas[chose_article] = inversed_matrix_A[chose_article] * vector_b[chose_article].T\n",
    "                vector_b[chose_article] = b + real_payoff * user_features\n",
    "                profile[4] += st - time.clock()\n",
    "                st = time.clock()\n",
    "            else:\n",
    "                #print 'No information about payoff of', chose_article\n",
    "                pass\n",
    "\n",
    "            profile[3] += st - time.clock()\n",
    "            st = time.clock()\n",
    "\n",
    "\n",
    "\n",
    "\n",
    "        data.close()\n",
    "        performance.append(sum_reward_of_alg/sum_reward_of_data)\n",
    "        print(\"--- %s seconds ---\" % (time.time() - start_time))\n",
    "    except KeyboardInterrupt:\n",
    "        print \"Interrupted\"\n",
    "        print profile"
   ]
  },
  {
   "cell_type": "code",
   "execution_count": 5,
   "metadata": {
    "collapsed": false
   },
   "outputs": [
    {
     "name": "stdout",
     "output_type": "stream",
     "text": [
      "[0.07315788173893001, 0.07432682730064127, 0.07166788774829803, 0.07352832223383851, 0.0711328070334302, 0.07301793755196458, 0.0736764984318019, 0.0725157848810886, 0.07168435177029396, 0.07431036327864535, 0.07319904179391984]\n"
     ]
    },
    {
     "data": {
      "image/png": "[encoded data removed]",
      "text/plain": [
       "<matplotlib.figure.Figure at 0x1142bc290>"
      ]
     },
     "metadata": {},
     "output_type": "display_data"
    }
   ],
   "source": [
    "plt.plot(alphas, performance)\n",
    "print performance\n"
   ]
  },
  {
   "cell_type": "code",
   "execution_count": 7,
   "metadata": {
    "collapsed": true
   },
   "outputs": [],
   "source": [
    "performance1 = [0.05, 0.07203009623220856, 0.07138799937436717, 0.07262280102406217, 0.07082822262650543, 0.07451616355359451, 0.0725651769470764, 0.07257340895807436, 0.0722194324851618, 0.0726886571120459, 0.07221120047416384, 0.075]\n",
    "alpha = alphas = [0., 0.05, 0.1, 0.15, 0.2, 0.25, 0.3, 0.35, 0.4, 0.45, 0.5, 0.55]"
   ]
  },
  {
   "cell_type": "code",
   "execution_count": 8,
   "metadata": {
    "collapsed": false
   },
   "outputs": [
    {
     "data": {
      "text/plain": [
       "[<matplotlib.lines.Line2D at 0x1144e39d0>]"
      ]
     },
     "execution_count": 8,
     "metadata": {},
     "output_type": "execute_result"
    },
    {
     "data": {
      "image/png": "[encoded data removed]",
      "text/plain": [
       "<matplotlib.figure.Figure at 0x1142fd710>"
      ]
     },
     "metadata": {},
     "output_type": "display_data"
    }
   ],
   "source": [
    "plt.plot(alphas, performance1)"
   ]
  },
  {
   "cell_type": "code",
   "execution_count": null,
   "metadata": {
    "collapsed": true
   },
   "outputs": [],
   "source": []
  }
 ],
 "metadata": {
  "kernelspec": {
   "display_name": "Python 2",
   "language": "python",
   "name": "python2"
  },
  "language_info": {
   "codemirror_mode": {
    "name": "ipython",
    "version": 2
   },
   "file_extension": ".py",
   "mimetype": "text/x-python",
   "name": "python",
   "nbconvert_exporter": "python",
   "pygments_lexer": "ipython2",
   "version": "2.7.10"
  }
 },
 "nbformat": 4,
 "nbformat_minor": 0
}
